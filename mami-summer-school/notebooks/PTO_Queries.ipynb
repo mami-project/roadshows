{
 "cells": [
  {
   "cell_type": "markdown",
   "metadata": {},
   "source": [
    "# Query Notebook\n",
    "\n",
    "for the MAMI Path Transparency Measurement Summer School\n",
    "\n",
    "### Configuration and Environment Setup\n",
    "\n",
    "Set up out environment to point to the correct instance of the PTO, and set up our API token and the observation set ID for the normalized data we uploaded, as well as for the analyzed data combining observations from all students:"
   ]
  },
  {
   "cell_type": "code",
   "execution_count": null,
   "metadata": {},
   "outputs": [],
   "source": [
    "baseurl = \"https://summer.pto.mami-project.eu\"\n",
    "token = None\n",
    "my_obset_id = \"1\""
   ]
  },
  {
   "cell_type": "markdown",
   "metadata": {},
   "source": [
    "Now import some things we'll need to interact with the PTO:"
   ]
  },
  {
   "cell_type": "code",
   "execution_count": null,
   "metadata": {},
   "outputs": [],
   "source": [
    "# PTO client\n",
    "from ptoclient import *\n",
    "\n",
    "# Pandas\n",
    "import pandas as pd\n",
    "import numpy as np  \n",
    "import matplotlib.pyplot as plt\n",
    "import matplotlib.dates as mdates\n",
    "\n",
    "# pretty printing\n",
    "from pprint import pprint"
   ]
  },
  {
   "cell_type": "markdown",
   "metadata": {},
   "source": [
    "And some utility functions we'll use to work with the dataframes we retrieve from the PTO:"
   ]
  },
  {
   "cell_type": "code",
   "execution_count": null,
   "metadata": {},
   "outputs": [],
   "source": [
    "def pivot_condition_time(df, prefix, aspect, states):\n",
    "    \"\"\"\n",
    "    Given a dataframe counts of conditions (states of one or more aspects) \n",
    "    over a time series, pivot to a time-indexed table with a column for \n",
    "    each state.\n",
    "    \n",
    "    \"\"\"\n",
    "    \n",
    "    aspect_df = df[df['condition'].map(lambda x: x.startswith(\".\".join((prefix,aspect))))]\n",
    "    \n",
    "    total_df = aspect_df.groupby('time').sum().loc[:,[\"count\"]]\n",
    "    total_df.columns = ['total']\n",
    "    total_df['time'] = total_df.index\n",
    "    \n",
    "    aspect_df = aspect_df.join(total_df, on=\"time\", rsuffix=\"_\")\n",
    "    del(aspect_df['time_'])\n",
    "    \n",
    "    pivot_df = aspect_df.groupby('time').first().loc[:,['total']]\n",
    "    for c in states:\n",
    "        cseries = aspect_df[aspect_df['condition'] == \".\".join((prefix,aspect,c))]\n",
    "        cseries.index = cseries['time']\n",
    "        cseries = cseries.loc[:,['count']]\n",
    "        cseries.columns = [c]\n",
    "        pivot_df = pd.concat([pivot_df, cseries], axis=1)\n",
    "    \n",
    "    return pivot_df.fillna(0)"
   ]
  },
  {
   "cell_type": "markdown",
   "metadata": {},
   "source": [
    "### Create a client to access the PTO\n",
    "\n",
    "The client object encapsulates a base URL and an API token, and can be used to access queries and observations on the given instance of the PTO."
   ]
  },
  {
   "cell_type": "code",
   "execution_count": null,
   "metadata": {},
   "outputs": [],
   "source": [
    "c = PTOClient(baseurl, token)"
   ]
  },
  {
   "cell_type": "markdown",
   "metadata": {},
   "source": [
    "### Access my observation set\n",
    "\n",
    "Let's check metadata for the observation set we uploaded in the earlier part of the course:"
   ]
  },
  {
   "cell_type": "code",
   "execution_count": null,
   "metadata": {},
   "outputs": [],
   "source": [
    "s = c.retrieve_set(setid=my_obset_id)\n",
    "pprint(s.metadata())"
   ]
  },
  {
   "cell_type": "markdown",
   "metadata": {},
   "source": [
    "Now run a query to look at the ratio of ECN negotiation success in our observation set:"
   ]
  },
  {
   "cell_type": "code",
   "execution_count": null,
   "metadata": {},
   "outputs": [],
   "source": [
    "q_mine = c.submit_query(PTOQuerySpec().time(\"2016-11-01\", \"2017-01-01\")\n",
    "                                      .condition(\"ecn.negotiation.*\")\n",
    "                                      .group_by_condition())"
   ]
  },
  {
   "cell_type": "markdown",
   "metadata": {},
   "source": [
    "Retrieve metadata, wait for state to be complete:"
   ]
  },
  {
   "cell_type": "code",
   "execution_count": null,
   "metadata": {},
   "outputs": [],
   "source": [
    "pprint(q_mine.metadata(reload=True))"
   ]
  },
  {
   "cell_type": "markdown",
   "metadata": {},
   "source": [
    "Have a look at the query results, then calculate the ratio of targets where ECN negotiation succeeded:"
   ]
  },
  {
   "cell_type": "code",
   "execution_count": null,
   "metadata": {},
   "outputs": [],
   "source": [
    "r = q_mine.results()\n",
    "r"
   ]
  },
  {
   "cell_type": "code",
   "execution_count": null,
   "metadata": {},
   "outputs": [],
   "source": [
    "r.index = r.group\n",
    "r.loc['ecn.negotiation.succeeded']['count'] / r['count'].sum()"
   ]
  },
  {
   "cell_type": "code",
   "execution_count": null,
   "metadata": {},
   "outputs": [],
   "source": []
  },
  {
   "cell_type": "markdown",
   "metadata": {},
   "source": [
    "### Examine combined results\n",
    "\n",
    "Let's run another query, but on all multipoint conditions -- these look at the result of analysis of each target combining observations from each student:"
   ]
  },
  {
   "cell_type": "code",
   "execution_count": null,
   "metadata": {},
   "outputs": [],
   "source": [
    "q_multi = c.submit_query(PTOQuerySpec().time(\"2016-11-01\", \"2017-01-01\")\n",
    "                                       .condition(\"ecn.multipoint.*\")\n",
    "                                       .group_by_condition())"
   ]
  },
  {
   "cell_type": "code",
   "execution_count": null,
   "metadata": {},
   "outputs": [],
   "source": [
    "pprint(q_multi.metadata(reload=True))"
   ]
  },
  {
   "cell_type": "code",
   "execution_count": null,
   "metadata": {},
   "outputs": [],
   "source": [
    "r = q_multi.results()\n",
    "r"
   ]
  },
  {
   "cell_type": "code",
   "execution_count": null,
   "metadata": {},
   "outputs": [],
   "source": [
    "q_pathdep_obs = c.submit_query(PTOQuerySpec().time(\"2016-11-01\", \"2017-01-01\")\n",
    "                                             .condition(\"ecn.multipoint.connectivity.path_dependent\"))"
   ]
  },
  {
   "cell_type": "code",
   "execution_count": null,
   "metadata": {},
   "outputs": [],
   "source": [
    "pprint(q_pathdep_obs.metadata(reload=True))"
   ]
  }
 ],
 "metadata": {
  "kernelspec": {
   "display_name": "Python 3",
   "language": "python",
   "name": "python3"
  },
  "language_info": {
   "codemirror_mode": {
    "name": "ipython",
    "version": 3
   },
   "file_extension": ".py",
   "mimetype": "text/x-python",
   "name": "python",
   "nbconvert_exporter": "python",
   "pygments_lexer": "ipython3",
   "version": "3.6.5"
  }
 },
 "nbformat": 4,
 "nbformat_minor": 2
}
